{
 "cells": [
  {
   "cell_type": "code",
   "execution_count": 1,
   "id": "cf9b8755",
   "metadata": {},
   "outputs": [],
   "source": [
    "from selenium import webdriver\n",
    "from selenium.webdriver.common.by import By\n",
    "from selenium.webdriver.support.ui import Select\n",
    "from selenium.webdriver.support.wait import WebDriverWait\n",
    "from selenium.webdriver.support import expected_conditions as EC\n",
    "from selenium.common.exceptions import *\n",
    "\n",
    "from selenium.webdriver.chrome.service import Service\n",
    "from webdriver_manager.chrome import ChromeDriverManager\n",
    "\n",
    "from bs4 import BeautifulSoup\n",
    "import csv; import requests\n",
    "import time\n",
    "import pandas as pd\n",
    "import numpy as np\n",
    "import os\n",
    "import psutil"
   ]
  },
  {
   "cell_type": "code",
   "execution_count": 2,
   "id": "4db99e4a",
   "metadata": {},
   "outputs": [],
   "source": [
    "class kfc_web_scraper:\n",
    "    def __init__(self):\n",
    "        self.pick_up_css = \"#app > div.kfc_view_box > div > div.__start_ordering_container > div > ul > li:nth-child(1) > a\"\n",
    "        self.drop_down_css = \"#delivery > div > form > div > div > span > span > i\"\n",
    "        self.store_select_css = \"ul.el-scrollbar__view.el-select-dropdown__list\"\n",
    "        self.drop_list_css = \".el-scrollbar__view\"\n",
    "        self.address_confirm_css = \"html body.overflow div#app.__ishome div.kfc_view_box div.kfc_dialog div.__start_ordering_container div.__ordering_content div.tab-content div#delivery.tab-pane.active div.__pick_delivery_tab button.kfc_btn.__brand.__address_confirm_button\"\n",
    "        self.search_button = \"#delivery > div > button.kfc_btn.__brand.__address_confirm_button\"\n",
    "        self.img = \".__product_item_image > a > .__product_im_img > img\"\n",
    "        self.name = \".__product_item_desc > a > h2\"\n",
    "        self.price = \".__product_item_desc > .__product_desc_price\"\n",
    "        self.main_menu = \".__main_menu_content\"\n",
    "        self.category = \".__main_content_section\"\n",
    "        self.items = \".__main_content_block > .__product_item:not([style])\"\n",
    "        self.url = \"https://www.kfcmongolia.com/index\"\n",
    "        self.store_list_dict = ''\n",
    "        self.main_Data_frame = pd.DataFrame(columns=[\"names\", \"prices\", \"categories\", \"image\", \"store\"])\n",
    "        \n",
    "    def get_browser(self):\n",
    "        options = webdriver.ChromeOptions()\n",
    "        options.add_argument('headless')\n",
    "        options.add_argument('window-size=1000x1000')\n",
    "        options.add_argument(\"disable-gpu\")\n",
    "        \n",
    "        self.driver = webdriver.Chrome(\n",
    "                                        os.getcwd() + '\\chromedriver', \n",
    "                                        options=options,\n",
    "#                                         service=Service(ChromeDriverManager().install())\n",
    "        )\n",
    "        self.driver.get(self.url)\n",
    "        self.driver_process = psutil.Process(self.driver.service.process.pid)\n",
    "        \n",
    "        pick_up = self.driver.find_element(By.CSS_SELECTOR, self.pick_up_css)\n",
    "        pick_up.click()\n",
    "        \n",
    "        drop_down = self.driver.find_element(By.CSS_SELECTOR, self.drop_down_css)\n",
    "        drop_down.click()\n",
    "\n",
    "    def get_store_dict(self):\n",
    "        self.get_browser()\n",
    "        \n",
    "        time.sleep(2)\n",
    "        stores = self.driver.find_element(By.CSS_SELECTOR, self.store_select_css).text\n",
    "        store_list = stores.split('\\n')\n",
    "        self.store_list_dict = {i+1:s for i,s in enumerate(store_list)}\n",
    "        \n",
    "        self.quit_browser()\n",
    "\n",
    "    def get_store_items(self):\n",
    "        \n",
    "        test = 0\n",
    "        categories = 0\n",
    "        \n",
    "        self.get_store_dict()\n",
    "        \n",
    "        if len(self.store_list_dict) > 0:\n",
    "            for i in range(len(self.store_list_dict)):\n",
    "                item_imgs = []\n",
    "                item_names = []\n",
    "                item_prices = []\n",
    "                item_categories = []\n",
    "                item_store = []\n",
    "                \n",
    "                self.get_browser()\n",
    "                while True:\n",
    "                    try:\n",
    "                        input_store_names = self.driver.find_elements(By.CSS_SELECTOR, 'li.el-select-dropdown__item')\n",
    "                        input_store_names[i].click()\n",
    "                        if input_store_names[i].text == \"\":\n",
    "                            continue \n",
    "                        break\n",
    "                    except:\n",
    "                        continue\n",
    "\n",
    "                print(len(input_store_names), i, input_store_names[i].text)\n",
    "                \n",
    "                store_name = input_store_names[i].text\n",
    "                search_button = self.driver.find_element(By.CSS_SELECTOR, self.search_button)\n",
    "                search_button.click()\n",
    "\n",
    "                time.sleep(2)\n",
    "                get_main_menu = self.driver.find_element(By.CSS_SELECTOR, self.main_menu)\n",
    "                WebDriverWait(self.driver, 100).until(EC.presence_of_element_located((By.CSS_SELECTOR, self.category)))\n",
    "                get_categories = get_main_menu.find_elements(By.CSS_SELECTOR, self.category)\n",
    "                \n",
    "                print(\"categories\", get_categories)\n",
    "                for j in range(len(get_categories)):\n",
    "                    while True:\n",
    "                        try:\n",
    "                            get_items = get_categories[j].find_elements(By.CSS_SELECTOR, self.items)\n",
    "                            category = get_categories[j].find_element(By.CSS_SELECTOR, 'h3').text\n",
    "                            break\n",
    "                        except:\n",
    "                            print(\"sdfsdfsdfs\")\n",
    "                            continue\n",
    "                    \n",
    "                    for k in range(len(get_items)):\n",
    "                        img = get_items[k].find_element(By.CSS_SELECTOR, self.img).get_attribute(\"src\")\n",
    "                        name = get_items[k].find_element(By.CSS_SELECTOR, self.name).text\n",
    "                        price = get_items[k].find_element(By.CSS_SELECTOR, self.price).text\n",
    "\n",
    "                        if name != '':\n",
    "                            item_imgs.append(img)\n",
    "                            item_categories.append(category)\n",
    "                            item_names.append(name)\n",
    "                            item_prices.append(price)\n",
    "                            item_store.append(store_name)\n",
    "\n",
    "                self.quit_browser()\n",
    "                    \n",
    "                temp_DataFrame = pd.DataFrame({\"names\": item_names, \n",
    "                                               \"prices\": item_prices,\n",
    "                                               \"categories\": item_categories,\n",
    "                                               \"image\": item_imgs, \n",
    "                                               \"store\": item_store\n",
    "                                              })\n",
    "                self.main_Data_frame = pd.concat([self.main_Data_frame, temp_DataFrame])\n",
    "            \n",
    "        return self.main_Data_frame\n",
    "            \n",
    "    def quit_browser(self, ):\n",
    "        self.driver.quit()"
   ]
  },
  {
   "cell_type": "code",
   "execution_count": null,
   "id": "ab0837fc",
   "metadata": {
    "scrolled": false
   },
   "outputs": [
    {
     "name": "stderr",
     "output_type": "stream",
     "text": [
      "C:\\Users\\sundui\\AppData\\Local\\Temp\\ipykernel_3116\\774024082.py:25: DeprecationWarning: executable_path has been deprecated, please pass in a Service object\n",
      "  self.driver = webdriver.Chrome(\n"
     ]
    },
    {
     "name": "stdout",
     "output_type": "stream",
     "text": [
      "17 0 KFC-БИЗНЕСС ПЛАЗА /Төв номын сан/\n",
      "categories [<selenium.webdriver.remote.webelement.WebElement (session=\"b6299dd5849831e6bf298302cacf6c2b\", element=\"9fb4dfc9-fc07-404e-9fab-fecde971ebbe\")>, <selenium.webdriver.remote.webelement.WebElement (session=\"b6299dd5849831e6bf298302cacf6c2b\", element=\"badbb71e-e0da-4874-bea9-f69ce7474e36\")>, <selenium.webdriver.remote.webelement.WebElement (session=\"b6299dd5849831e6bf298302cacf6c2b\", element=\"44d461e2-394c-4390-bc72-03156f138e05\")>, <selenium.webdriver.remote.webelement.WebElement (session=\"b6299dd5849831e6bf298302cacf6c2b\", element=\"e74df7d9-8265-4f3a-a950-93cb23fc4f41\")>, <selenium.webdriver.remote.webelement.WebElement (session=\"b6299dd5849831e6bf298302cacf6c2b\", element=\"122bdbe4-5912-41ea-a3d6-a988a0f11b25\")>, <selenium.webdriver.remote.webelement.WebElement (session=\"b6299dd5849831e6bf298302cacf6c2b\", element=\"242037ca-ca66-4b2a-9ec0-a88b97e7803f\")>, <selenium.webdriver.remote.webelement.WebElement (session=\"b6299dd5849831e6bf298302cacf6c2b\", element=\"9e8dc6e8-458e-445a-9478-ca91b73f149d\")>, <selenium.webdriver.remote.webelement.WebElement (session=\"b6299dd5849831e6bf298302cacf6c2b\", element=\"6ecc4393-a74c-403b-ae57-9b53345d1816\")>]\n"
     ]
    },
    {
     "name": "stderr",
     "output_type": "stream",
     "text": [
      "C:\\Users\\sundui\\AppData\\Local\\Temp\\ipykernel_3116\\774024082.py:25: DeprecationWarning: executable_path has been deprecated, please pass in a Service object\n",
      "  self.driver = webdriver.Chrome(\n"
     ]
    },
    {
     "name": "stdout",
     "output_type": "stream",
     "text": [
      "17 1 KFC-Смарт /Өргөө кино театрын эсрэг талд/\n",
      "categories [<selenium.webdriver.remote.webelement.WebElement (session=\"f1fee496ec2d6da432c81b48207b25d0\", element=\"1c4cbef0-e9bd-4308-ad58-7ab72208ff0e\")>, <selenium.webdriver.remote.webelement.WebElement (session=\"f1fee496ec2d6da432c81b48207b25d0\", element=\"881dac6f-d15d-485f-bb80-e21cf665fe46\")>, <selenium.webdriver.remote.webelement.WebElement (session=\"f1fee496ec2d6da432c81b48207b25d0\", element=\"57df9632-bf1d-4087-91a3-254a6ec2b39d\")>, <selenium.webdriver.remote.webelement.WebElement (session=\"f1fee496ec2d6da432c81b48207b25d0\", element=\"a2c26733-7e1d-4018-9f93-292257f3860e\")>, <selenium.webdriver.remote.webelement.WebElement (session=\"f1fee496ec2d6da432c81b48207b25d0\", element=\"356902ab-3336-4f08-baa3-d64347ebb240\")>, <selenium.webdriver.remote.webelement.WebElement (session=\"f1fee496ec2d6da432c81b48207b25d0\", element=\"9b287b9a-c0d9-4c24-a2e6-a34b2befa71c\")>, <selenium.webdriver.remote.webelement.WebElement (session=\"f1fee496ec2d6da432c81b48207b25d0\", element=\"e7ffb36f-d589-424e-b5c6-cb7a289a5e54\")>, <selenium.webdriver.remote.webelement.WebElement (session=\"f1fee496ec2d6da432c81b48207b25d0\", element=\"6392b3f7-80f0-4eb2-a60a-c724a8bf2db1\")>]\n"
     ]
    },
    {
     "name": "stderr",
     "output_type": "stream",
     "text": [
      "C:\\Users\\sundui\\AppData\\Local\\Temp\\ipykernel_3116\\774024082.py:25: DeprecationWarning: executable_path has been deprecated, please pass in a Service object\n",
      "  self.driver = webdriver.Chrome(\n"
     ]
    },
    {
     "name": "stdout",
     "output_type": "stream",
     "text": [
      "17 2 KFC-Сөүл (Хүүхдийн 100)\n",
      "categories [<selenium.webdriver.remote.webelement.WebElement (session=\"1cc9355edcd8a1cc82cd8c7f54aa38dc\", element=\"8969b30c-f7aa-4d4d-a5d3-5620dde7532a\")>, <selenium.webdriver.remote.webelement.WebElement (session=\"1cc9355edcd8a1cc82cd8c7f54aa38dc\", element=\"6194e6cc-005b-4a7d-84b2-b16d31ff904d\")>, <selenium.webdriver.remote.webelement.WebElement (session=\"1cc9355edcd8a1cc82cd8c7f54aa38dc\", element=\"8e235f36-bc1b-4371-945a-e8e4a5dde601\")>, <selenium.webdriver.remote.webelement.WebElement (session=\"1cc9355edcd8a1cc82cd8c7f54aa38dc\", element=\"46062c38-abc4-44a1-b4e3-0e1f5eb2fd2d\")>, <selenium.webdriver.remote.webelement.WebElement (session=\"1cc9355edcd8a1cc82cd8c7f54aa38dc\", element=\"9e32b9f5-0742-4e9d-ad21-9316f7e12907\")>, <selenium.webdriver.remote.webelement.WebElement (session=\"1cc9355edcd8a1cc82cd8c7f54aa38dc\", element=\"f38b50ef-19ea-4bc3-bad6-ed4ae6f4d143\")>, <selenium.webdriver.remote.webelement.WebElement (session=\"1cc9355edcd8a1cc82cd8c7f54aa38dc\", element=\"87b2630a-b358-43fd-9723-e1d250befcc0\")>, <selenium.webdriver.remote.webelement.WebElement (session=\"1cc9355edcd8a1cc82cd8c7f54aa38dc\", element=\"3fff1c43-165e-497c-8e51-447be34f79b2\")>]\n"
     ]
    },
    {
     "name": "stderr",
     "output_type": "stream",
     "text": [
      "C:\\Users\\sundui\\AppData\\Local\\Temp\\ipykernel_3116\\774024082.py:25: DeprecationWarning: executable_path has been deprecated, please pass in a Service object\n",
      "  self.driver = webdriver.Chrome(\n"
     ]
    },
    {
     "name": "stdout",
     "output_type": "stream",
     "text": [
      "17 3 KFC-Тэнгис /Тэнгис кино театрын хажууд/\n",
      "categories [<selenium.webdriver.remote.webelement.WebElement (session=\"eaa6d6fa8f7685d88b2c9b79d8a31c9a\", element=\"e51b1e40-ffc6-4428-8b3c-ea5b25fbbbc9\")>, <selenium.webdriver.remote.webelement.WebElement (session=\"eaa6d6fa8f7685d88b2c9b79d8a31c9a\", element=\"ce90f7ac-9d99-48d8-b2b0-08572d63a473\")>, <selenium.webdriver.remote.webelement.WebElement (session=\"eaa6d6fa8f7685d88b2c9b79d8a31c9a\", element=\"64cabdb9-912f-4df2-915d-14477da6c26f\")>, <selenium.webdriver.remote.webelement.WebElement (session=\"eaa6d6fa8f7685d88b2c9b79d8a31c9a\", element=\"4397e3d9-cd46-4ac4-b726-1d2497e00241\")>, <selenium.webdriver.remote.webelement.WebElement (session=\"eaa6d6fa8f7685d88b2c9b79d8a31c9a\", element=\"b13ce687-9d62-4728-a524-fc897c445650\")>, <selenium.webdriver.remote.webelement.WebElement (session=\"eaa6d6fa8f7685d88b2c9b79d8a31c9a\", element=\"a218f176-bacf-4e31-89c3-e589b8898a47\")>, <selenium.webdriver.remote.webelement.WebElement (session=\"eaa6d6fa8f7685d88b2c9b79d8a31c9a\", element=\"f845fe16-194e-45ff-b25f-36b28393e047\")>, <selenium.webdriver.remote.webelement.WebElement (session=\"eaa6d6fa8f7685d88b2c9b79d8a31c9a\", element=\"a0e8001c-de52-463e-85ea-18eaa1289ad3\")>]\n"
     ]
    },
    {
     "name": "stderr",
     "output_type": "stream",
     "text": [
      "C:\\Users\\sundui\\AppData\\Local\\Temp\\ipykernel_3116\\774024082.py:25: DeprecationWarning: executable_path has been deprecated, please pass in a Service object\n",
      "  self.driver = webdriver.Chrome(\n"
     ]
    },
    {
     "name": "stdout",
     "output_type": "stream",
     "text": [
      "17 4 KFC-Намянжу/(ХӨСҮТ дэргэд)\n",
      "categories [<selenium.webdriver.remote.webelement.WebElement (session=\"bcc9ed959252ffee453ebe546bab877d\", element=\"2abe1f8c-a54c-4466-9e18-69d9de3a15b6\")>, <selenium.webdriver.remote.webelement.WebElement (session=\"bcc9ed959252ffee453ebe546bab877d\", element=\"9f81c295-f679-4b79-8555-214d8d4bdc24\")>, <selenium.webdriver.remote.webelement.WebElement (session=\"bcc9ed959252ffee453ebe546bab877d\", element=\"3195f53e-2298-48f0-ab6b-cb513fb55085\")>, <selenium.webdriver.remote.webelement.WebElement (session=\"bcc9ed959252ffee453ebe546bab877d\", element=\"9a745045-e51e-4767-b5df-f9efdd1311e0\")>]\n"
     ]
    },
    {
     "name": "stderr",
     "output_type": "stream",
     "text": [
      "C:\\Users\\sundui\\AppData\\Local\\Temp\\ipykernel_3116\\774024082.py:25: DeprecationWarning: executable_path has been deprecated, please pass in a Service object\n",
      "  self.driver = webdriver.Chrome(\n"
     ]
    },
    {
     "name": "stdout",
     "output_type": "stream",
     "text": [
      "17 5 KFC-Энхтайван (24 цагийн салбар)\n",
      "categories [<selenium.webdriver.remote.webelement.WebElement (session=\"af9119723f77a66019fa7141b0689848\", element=\"d6928220-0dd7-4e19-950c-398c4815ffeb\")>, <selenium.webdriver.remote.webelement.WebElement (session=\"af9119723f77a66019fa7141b0689848\", element=\"bac3e78f-3a72-4fa0-8250-87f7c12075db\")>, <selenium.webdriver.remote.webelement.WebElement (session=\"af9119723f77a66019fa7141b0689848\", element=\"d5660ed2-3f22-414a-b961-9de38ef099f5\")>, <selenium.webdriver.remote.webelement.WebElement (session=\"af9119723f77a66019fa7141b0689848\", element=\"414b2e64-742c-45ed-8123-5325fa50516c\")>, <selenium.webdriver.remote.webelement.WebElement (session=\"af9119723f77a66019fa7141b0689848\", element=\"84b1b05a-e332-46da-b5b5-676c25a66858\")>, <selenium.webdriver.remote.webelement.WebElement (session=\"af9119723f77a66019fa7141b0689848\", element=\"02f11a3c-389a-4392-9ffd-e97ae39bdb48\")>, <selenium.webdriver.remote.webelement.WebElement (session=\"af9119723f77a66019fa7141b0689848\", element=\"db2529ed-fc5e-4f01-9223-d6ecfd8a600d\")>, <selenium.webdriver.remote.webelement.WebElement (session=\"af9119723f77a66019fa7141b0689848\", element=\"ffb62558-82b7-42ef-9437-40ab2a7a59ff\")>]\n"
     ]
    },
    {
     "name": "stderr",
     "output_type": "stream",
     "text": [
      "C:\\Users\\sundui\\AppData\\Local\\Temp\\ipykernel_3116\\774024082.py:25: DeprecationWarning: executable_path has been deprecated, please pass in a Service object\n",
      "  self.driver = webdriver.Chrome(\n"
     ]
    },
    {
     "name": "stdout",
     "output_type": "stream",
     "text": [
      "17 6 KFC-Хархорин /Хархорин захын буудал/\n",
      "categories [<selenium.webdriver.remote.webelement.WebElement (session=\"1d5d59255ea05be3576f3f1bd7189a0c\", element=\"dc848968-9ba3-4884-8ed3-1a0f2fffcd49\")>, <selenium.webdriver.remote.webelement.WebElement (session=\"1d5d59255ea05be3576f3f1bd7189a0c\", element=\"036cabfb-f715-44bd-9b09-164d35b697ec\")>, <selenium.webdriver.remote.webelement.WebElement (session=\"1d5d59255ea05be3576f3f1bd7189a0c\", element=\"c60282c0-f647-49fe-b35c-3dd0ec3599d6\")>, <selenium.webdriver.remote.webelement.WebElement (session=\"1d5d59255ea05be3576f3f1bd7189a0c\", element=\"23eb46fc-100e-4e5c-a08f-9eb2e025bbc6\")>]\n"
     ]
    },
    {
     "name": "stderr",
     "output_type": "stream",
     "text": [
      "C:\\Users\\sundui\\AppData\\Local\\Temp\\ipykernel_3116\\774024082.py:25: DeprecationWarning: executable_path has been deprecated, please pass in a Service object\n",
      "  self.driver = webdriver.Chrome(\n"
     ]
    },
    {
     "name": "stdout",
     "output_type": "stream",
     "text": [
      "17 7 KFC-Зайсан салбар\n",
      "categories [<selenium.webdriver.remote.webelement.WebElement (session=\"80d9966ecc55c85adc3cb9f1b6cb3d87\", element=\"ff5ba2f0-64f4-4535-9d3d-e53aa2f9c1e9\")>, <selenium.webdriver.remote.webelement.WebElement (session=\"80d9966ecc55c85adc3cb9f1b6cb3d87\", element=\"adf1c25e-38ed-4b85-b8ce-bef4b5f4cd69\")>, <selenium.webdriver.remote.webelement.WebElement (session=\"80d9966ecc55c85adc3cb9f1b6cb3d87\", element=\"3a72a2bb-80a5-404e-9c73-8a492110d5f7\")>, <selenium.webdriver.remote.webelement.WebElement (session=\"80d9966ecc55c85adc3cb9f1b6cb3d87\", element=\"bf5871f9-6067-4084-81b2-0e8931887029\")>, <selenium.webdriver.remote.webelement.WebElement (session=\"80d9966ecc55c85adc3cb9f1b6cb3d87\", element=\"6fa97c4b-3b74-4b9c-9144-a78e254e48c5\")>, <selenium.webdriver.remote.webelement.WebElement (session=\"80d9966ecc55c85adc3cb9f1b6cb3d87\", element=\"d46dd8eb-cab7-4ccf-b8ab-780ac063e9af\")>, <selenium.webdriver.remote.webelement.WebElement (session=\"80d9966ecc55c85adc3cb9f1b6cb3d87\", element=\"c377197e-9e73-4ce7-a2b2-16aaedf27269\")>, <selenium.webdriver.remote.webelement.WebElement (session=\"80d9966ecc55c85adc3cb9f1b6cb3d87\", element=\"4b1e0949-34ed-43fc-9065-bed926971b93\")>]\n"
     ]
    },
    {
     "name": "stderr",
     "output_type": "stream",
     "text": [
      "C:\\Users\\sundui\\AppData\\Local\\Temp\\ipykernel_3116\\774024082.py:25: DeprecationWarning: executable_path has been deprecated, please pass in a Service object\n",
      "  self.driver = webdriver.Chrome(\n"
     ]
    },
    {
     "name": "stdout",
     "output_type": "stream",
     "text": [
      "17 8 KFC-Сансар /24 Цагийн салбар/\n",
      "categories [<selenium.webdriver.remote.webelement.WebElement (session=\"dd50df642c864748246a34564b29ae7f\", element=\"b4c33f77-17df-4737-9f27-e250ea4df333\")>, <selenium.webdriver.remote.webelement.WebElement (session=\"dd50df642c864748246a34564b29ae7f\", element=\"c37e1991-7c0f-47ef-ac60-f8a39c8d9f3a\")>, <selenium.webdriver.remote.webelement.WebElement (session=\"dd50df642c864748246a34564b29ae7f\", element=\"2dfbc0e9-be95-4e82-8c4a-063e72b0d287\")>, <selenium.webdriver.remote.webelement.WebElement (session=\"dd50df642c864748246a34564b29ae7f\", element=\"55dac35f-29e6-4147-b447-b73eb557d914\")>, <selenium.webdriver.remote.webelement.WebElement (session=\"dd50df642c864748246a34564b29ae7f\", element=\"5d7d7dcd-fa9e-4a76-8aab-3dcf438af2ba\")>, <selenium.webdriver.remote.webelement.WebElement (session=\"dd50df642c864748246a34564b29ae7f\", element=\"6b709f4c-09b2-495c-b0cb-00116807be22\")>, <selenium.webdriver.remote.webelement.WebElement (session=\"dd50df642c864748246a34564b29ae7f\", element=\"59500385-7e88-491e-9c1c-e2825bf59d29\")>, <selenium.webdriver.remote.webelement.WebElement (session=\"dd50df642c864748246a34564b29ae7f\", element=\"e706ebf4-733c-45c1-ab7f-68f464817c7e\")>]\n"
     ]
    },
    {
     "name": "stderr",
     "output_type": "stream",
     "text": [
      "C:\\Users\\sundui\\AppData\\Local\\Temp\\ipykernel_3116\\774024082.py:25: DeprecationWarning: executable_path has been deprecated, please pass in a Service object\n",
      "  self.driver = webdriver.Chrome(\n"
     ]
    },
    {
     "name": "stdout",
     "output_type": "stream",
     "text": [
      "17 9 KFC-Морьтон салбар /19-н Буудал/\n",
      "categories [<selenium.webdriver.remote.webelement.WebElement (session=\"748fac2e756e346a3e5b00f9690adb40\", element=\"def402e9-b3af-4de1-9c78-6228eeea7a6e\")>, <selenium.webdriver.remote.webelement.WebElement (session=\"748fac2e756e346a3e5b00f9690adb40\", element=\"6bd948f7-24d2-435a-9c39-600f5fffd691\")>, <selenium.webdriver.remote.webelement.WebElement (session=\"748fac2e756e346a3e5b00f9690adb40\", element=\"5c57cdca-3f1b-4f8d-848d-303d51108918\")>, <selenium.webdriver.remote.webelement.WebElement (session=\"748fac2e756e346a3e5b00f9690adb40\", element=\"2965d82b-8280-446d-aaf9-30980f6a7754\")>, <selenium.webdriver.remote.webelement.WebElement (session=\"748fac2e756e346a3e5b00f9690adb40\", element=\"198dda2c-25a2-4030-8a1a-766a1140b888\")>, <selenium.webdriver.remote.webelement.WebElement (session=\"748fac2e756e346a3e5b00f9690adb40\", element=\"d147da50-17f3-463d-b91c-ccb247f2128b\")>, <selenium.webdriver.remote.webelement.WebElement (session=\"748fac2e756e346a3e5b00f9690adb40\", element=\"12a5d182-348b-4fdb-90ae-1079c95160e3\")>, <selenium.webdriver.remote.webelement.WebElement (session=\"748fac2e756e346a3e5b00f9690adb40\", element=\"8d0fc6e7-5489-4e05-8d98-2dadf73323fe\")>]\n"
     ]
    },
    {
     "name": "stderr",
     "output_type": "stream",
     "text": [
      "C:\\Users\\sundui\\AppData\\Local\\Temp\\ipykernel_3116\\774024082.py:25: DeprecationWarning: executable_path has been deprecated, please pass in a Service object\n",
      "  self.driver = webdriver.Chrome(\n"
     ]
    },
    {
     "name": "stdout",
     "output_type": "stream",
     "text": [
      "17 10 KFC-Хоум Плаза /Хан-Уул/ - 24 цагийн салбар\n",
      "categories [<selenium.webdriver.remote.webelement.WebElement (session=\"67c3c50317b8755fbe07699d4e9f24f9\", element=\"cdff8449-6509-48db-85c2-361a761a4b96\")>, <selenium.webdriver.remote.webelement.WebElement (session=\"67c3c50317b8755fbe07699d4e9f24f9\", element=\"bd4b4b55-fe2f-41d5-992a-928937cc4dd2\")>, <selenium.webdriver.remote.webelement.WebElement (session=\"67c3c50317b8755fbe07699d4e9f24f9\", element=\"60769efc-1a74-4d4c-8bec-185615e8fdf8\")>, <selenium.webdriver.remote.webelement.WebElement (session=\"67c3c50317b8755fbe07699d4e9f24f9\", element=\"35027c19-fc2a-454d-bd57-71d371cd3112\")>, <selenium.webdriver.remote.webelement.WebElement (session=\"67c3c50317b8755fbe07699d4e9f24f9\", element=\"f3ca6567-9c9b-4c00-b511-73c9a3c52d3f\")>, <selenium.webdriver.remote.webelement.WebElement (session=\"67c3c50317b8755fbe07699d4e9f24f9\", element=\"0428331d-3873-4242-947f-d33d67301233\")>, <selenium.webdriver.remote.webelement.WebElement (session=\"67c3c50317b8755fbe07699d4e9f24f9\", element=\"56d00727-aa72-4ec3-9a34-fd2245145b09\")>, <selenium.webdriver.remote.webelement.WebElement (session=\"67c3c50317b8755fbe07699d4e9f24f9\", element=\"f6c8bed0-c377-45a2-92cd-7e175352da1c\")>]\n"
     ]
    },
    {
     "name": "stderr",
     "output_type": "stream",
     "text": [
      "C:\\Users\\sundui\\AppData\\Local\\Temp\\ipykernel_3116\\774024082.py:25: DeprecationWarning: executable_path has been deprecated, please pass in a Service object\n",
      "  self.driver = webdriver.Chrome(\n"
     ]
    },
    {
     "name": "stdout",
     "output_type": "stream",
     "text": [
      "17 11 KFC-ГАЛЛЕРИА /Галлериа моол 1 давхарт/\n",
      "categories [<selenium.webdriver.remote.webelement.WebElement (session=\"7db3e4d126ff1ce61dbb37a47359efc8\", element=\"77b88130-e5a9-432d-afb2-b56981631962\")>, <selenium.webdriver.remote.webelement.WebElement (session=\"7db3e4d126ff1ce61dbb37a47359efc8\", element=\"b2fa34c6-3f70-42be-9e7a-c308b9814d95\")>, <selenium.webdriver.remote.webelement.WebElement (session=\"7db3e4d126ff1ce61dbb37a47359efc8\", element=\"23bba922-d67e-4026-9af1-4ec53a4f74c7\")>, <selenium.webdriver.remote.webelement.WebElement (session=\"7db3e4d126ff1ce61dbb37a47359efc8\", element=\"fb96d53c-a455-4a16-8ac9-ba59b70ff4bf\")>, <selenium.webdriver.remote.webelement.WebElement (session=\"7db3e4d126ff1ce61dbb37a47359efc8\", element=\"7a917bd1-da87-40df-b770-42113f6c574c\")>, <selenium.webdriver.remote.webelement.WebElement (session=\"7db3e4d126ff1ce61dbb37a47359efc8\", element=\"3e0e6e72-581e-49ed-8d48-414fced8005a\")>, <selenium.webdriver.remote.webelement.WebElement (session=\"7db3e4d126ff1ce61dbb37a47359efc8\", element=\"df99b32d-bbd4-4a3d-bbe6-86ef0cb22938\")>, <selenium.webdriver.remote.webelement.WebElement (session=\"7db3e4d126ff1ce61dbb37a47359efc8\", element=\"a5ff97dd-4b2c-4c23-a832-58ff835dbeee\")>]\n"
     ]
    },
    {
     "name": "stderr",
     "output_type": "stream",
     "text": [
      "C:\\Users\\sundui\\AppData\\Local\\Temp\\ipykernel_3116\\774024082.py:25: DeprecationWarning: executable_path has been deprecated, please pass in a Service object\n",
      "  self.driver = webdriver.Chrome(\n"
     ]
    }
   ],
   "source": [
    "test = kfc_web_scraper()\n",
    "df = test.get_store_items()"
   ]
  },
  {
   "cell_type": "code",
   "execution_count": null,
   "id": "d658d101",
   "metadata": {
    "scrolled": false
   },
   "outputs": [],
   "source": [
    "test_1 = list(df['store'].unique())"
   ]
  },
  {
   "cell_type": "code",
   "execution_count": null,
   "id": "06e69473",
   "metadata": {},
   "outputs": [],
   "source": [
    "test_2 = test.store_list_dict"
   ]
  },
  {
   "cell_type": "code",
   "execution_count": null,
   "id": "77e2148d",
   "metadata": {},
   "outputs": [],
   "source": [
    "test_3 = [i for i in test_2.values()]"
   ]
  },
  {
   "cell_type": "code",
   "execution_count": null,
   "id": "ccb6ef27",
   "metadata": {},
   "outputs": [],
   "source": [
    "def count(arr, n):\n",
    "    mp = dict()\n",
    "    non_dup = []\n",
    "    \n",
    "    for i in range(n):\n",
    "        if arr[i] in mp.keys():\n",
    "            mp[arr[i]] += 1\n",
    "        else:\n",
    "            mp[arr[i]] = 1\n",
    "    for x in mp:\n",
    "        if mp[x] == 1:\n",
    "            non_dup.append(x)\n",
    "            \n",
    "    if len(non_dup) > 0:\n",
    "        print(non_dup)\n",
    "    else:\n",
    "        print('no non duplicates')"
   ]
  },
  {
   "cell_type": "code",
   "execution_count": null,
   "id": "0ed9a786",
   "metadata": {},
   "outputs": [],
   "source": [
    "arr = test_1 + test_3\n",
    "count(arr, len(arr))"
   ]
  },
  {
   "cell_type": "code",
   "execution_count": null,
   "id": "fa1c776a",
   "metadata": {},
   "outputs": [],
   "source": [
    "df"
   ]
  },
  {
   "cell_type": "code",
   "execution_count": null,
   "id": "7d131667",
   "metadata": {},
   "outputs": [],
   "source": []
  },
  {
   "cell_type": "code",
   "execution_count": null,
   "id": "518b4d6d",
   "metadata": {},
   "outputs": [],
   "source": []
  }
 ],
 "metadata": {
  "kernelspec": {
   "display_name": "Python 3 (ipykernel)",
   "language": "python",
   "name": "python3"
  },
  "language_info": {
   "codemirror_mode": {
    "name": "ipython",
    "version": 3
   },
   "file_extension": ".py",
   "mimetype": "text/x-python",
   "name": "python",
   "nbconvert_exporter": "python",
   "pygments_lexer": "ipython3",
   "version": "3.11.2"
  }
 },
 "nbformat": 4,
 "nbformat_minor": 5
}
