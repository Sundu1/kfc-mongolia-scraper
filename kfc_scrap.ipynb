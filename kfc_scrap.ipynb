{
 "cells": [
  {
   "cell_type": "code",
   "execution_count": 53,
   "id": "7a389bb6",
   "metadata": {},
   "outputs": [],
   "source": [
    "from selenium import webdriver\n",
    "from selenium.webdriver.common.by import By\n",
    "from selenium.webdriver.support.ui import Select\n",
    "from selenium.webdriver.support.wait import WebDriverWait\n",
    "from selenium.webdriver.support import expected_conditions as EC\n",
    "from bs4 import BeautifulSoup as bs\n",
    "import csv; import requests\n",
    "import time\n",
    "import pandas as pd"
   ]
  },
  {
   "cell_type": "code",
   "execution_count": 54,
   "id": "5f819c48",
   "metadata": {},
   "outputs": [],
   "source": [
    "url = \"https://www.kfcmongolia.com/index\""
   ]
  },
  {
   "cell_type": "code",
   "execution_count": 55,
   "id": "ef0b1781",
   "metadata": {},
   "outputs": [],
   "source": [
    "#CSS Selectors\n",
    "pick_up_css = \"#app > div.kfc_view_box > div > div.__start_ordering_container > div > ul > li:nth-child(1) > a\"\n",
    "drop_down_css = \"#delivery > div > form > div > div > span > span > i\"\n",
    "store_select_css = \"html body.overflow div.el-select-dropdown.el-popper div.el-scrollbar div.el-select-dropdown__wrap.el-scrollbar__wrap ul.el-scrollbar__view.el-select-dropdown__list\"\n",
    "drop_list_css = \".el-scrollbar__view\"\n",
    "address_confirm_css = \"html body.overflow div#app.__ishome div.kfc_view_box div.kfc_dialog div.__start_ordering_container div.__ordering_content div.tab-content div#delivery.tab-pane.active div.__pick_delivery_tab button.kfc_btn.__brand.__address_confirm_button\"\n",
    "\n",
    "#XPATH\n",
    "store_list_xpath = '/html/body/div[2]/div[1]/div[1]/ul'\n",
    "\n",
    "path = os.getcwd() + \"chromedriver.exe\""
   ]
  },
  {
   "cell_type": "code",
   "execution_count": 60,
   "id": "1b14bb65",
   "metadata": {},
   "outputs": [
    {
     "data": {
      "text/plain": [
       "['']"
      ]
     },
     "execution_count": 60,
     "metadata": {},
     "output_type": "execute_result"
    }
   ],
   "source": [
    "def get_storelist(url):\n",
    "    driver = webdriver.Chrome('D:\\projects\\webscrap\\chromedriver')\n",
    "    driver.get(url)\n",
    "    \n",
    "    #First button to navigate to store slection\n",
    "    pick_up = driver.find_element(By.CSS_SELECTOR, pick_up_css)\n",
    "    pick_up.click()\n",
    "    \n",
    "    #Drop down button to get the store lists visible\n",
    "    drop_down = driver.find_element(By.CSS_SELECTOR, drop_down_css)\n",
    "    drop_down.click()\n",
    "    \n",
    "    time.sleep(2)\n",
    "    #Get the store list\n",
    "    global store_list\n",
    "    stores = driver.find_element(By.XPATH, store_list_xpath).text\n",
    "    store_list = stores.split(\"\\n\")\n",
    "    driver.quit()\n",
    "    \n",
    "    return store_list\n",
    "\n",
    "get_storelist(url)"
   ]
  },
  {
   "cell_type": "code",
   "execution_count": 58,
   "id": "fc473d0c",
   "metadata": {},
   "outputs": [],
   "source": [
    "#Create store num & dictionary from position in the list\n",
    "store_index = []\n",
    "for store in store_list:\n",
    "    store_index.append(store_list.index(store)+1)\n",
    "store_dict = dict(zip(store_index, store_list))"
   ]
  },
  {
   "cell_type": "code",
   "execution_count": 59,
   "id": "eb91f3c3",
   "metadata": {
    "scrolled": false
   },
   "outputs": [
    {
     "name": "stdout",
     "output_type": "stream",
     "text": [
      "All KFC Stores:\n",
      "1: \n"
     ]
    }
   ],
   "source": [
    "print(\"All KFC Stores:\")\n",
    "for key, value in store_dict.items():\n",
    "    print(f\"{key}: {value}\")"
   ]
  },
  {
   "cell_type": "code",
   "execution_count": 33,
   "id": "d1b91d08",
   "metadata": {},
   "outputs": [],
   "source": [
    "prod_df = pd.DataFrame()"
   ]
  },
  {
   "cell_type": "code",
   "execution_count": 34,
   "id": "d440fdbb",
   "metadata": {},
   "outputs": [],
   "source": [
    "#Function to append to a DF for each page\n",
    "def get_store_items():\n",
    "    \n",
    "    sets = driver.find_elements(By.CLASS_NAME,'__main_content_section')\n",
    "    \n",
    "    for set in sets:\n",
    "        set_name = set.find_element(By.TAG_NAME, 'h3').text\n",
    "        products = set.find_elements(By.CLASS_NAME,'__product_item')\n",
    "\n",
    "        print(set_name)\n",
    "        for product in products:\n",
    "            if product.text != '':\n",
    "                \n",
    "                prod_name = product.find_element(By.CLASS_NAME,\n",
    "                            '__product_im_desc_cont').get_attribute('innerHTML')\n",
    "                prod_name = prod_name[prod_name.find('\"\">') + 3: prod_name.find('</p>')]\n",
    "                print(f\"Prod Name:{prod_name}\")\n",
    "                \n",
    "                prod_img = product.find_element(By.CLASS_NAME,\n",
    "                            '__product_im_img').get_attribute(\"innerHTML\")\n",
    "                prod_img = prod_img[prod_img.find('src=\"')+5:prod_img.find('\" alt=')]\n",
    "                print(f\"Image Link:{prod_img}\")\n",
    "\n",
    "                \n",
    "                #Convert string to integers for KCAL and Price:\n",
    "                #1: KCAL\n",
    "                prod_kcal = product.find_element(By.CLASS_NAME,\n",
    "                            '__product_item_ccalory').text\n",
    "                prod_kcal_num = []\n",
    "                \n",
    "                #2: Price\n",
    "                prod_price = product.find_element(By.CLASS_NAME,\n",
    "                            '__product_desc_price').text\n",
    "                print(f\"Prod price:{prod_price}\")\n",
    "                \n",
    "                #Create a Dictionary and append to a DF\n",
    "                prod_dict = {'Store': store, \n",
    "                             'Set': set_name, \n",
    "                             'Prod_name':prod_name, \n",
    "                             'Prod_img': prod_img, \n",
    "                             'Prod_kcal': prod_kcal,\n",
    "                             'Prod_price_mnt': prod_price}\n",
    "                global prod_df\n",
    "                \n",
    "                prod_df = prod_df.append(prod_dict, ignore_index = True)\n",
    "                \n",
    "                \n",
    "    return prod_df"
   ]
  },
  {
   "cell_type": "code",
   "execution_count": 49,
   "id": "d4127c4a",
   "metadata": {},
   "outputs": [
    {
     "data": {
      "text/html": [
       "<div>\n",
       "<style scoped>\n",
       "    .dataframe tbody tr th:only-of-type {\n",
       "        vertical-align: middle;\n",
       "    }\n",
       "\n",
       "    .dataframe tbody tr th {\n",
       "        vertical-align: top;\n",
       "    }\n",
       "\n",
       "    .dataframe thead th {\n",
       "        text-align: right;\n",
       "    }\n",
       "</style>\n",
       "<table border=\"1\" class=\"dataframe\">\n",
       "  <thead>\n",
       "    <tr style=\"text-align: right;\">\n",
       "      <th></th>\n",
       "    </tr>\n",
       "  </thead>\n",
       "  <tbody>\n",
       "  </tbody>\n",
       "</table>\n",
       "</div>"
      ],
      "text/plain": [
       "Empty DataFrame\n",
       "Columns: []\n",
       "Index: []"
      ]
     },
     "execution_count": 49,
     "metadata": {},
     "output_type": "execute_result"
    }
   ],
   "source": [
    "prod_df"
   ]
  },
  {
   "cell_type": "code",
   "execution_count": 31,
   "id": "86de1ae9",
   "metadata": {},
   "outputs": [
    {
     "ename": "ElementNotInteractableException",
     "evalue": "Message: element not interactable\n  (Session info: chrome=109.0.5414.120)\n",
     "output_type": "error",
     "traceback": [
      "\u001b[1;31m--------------------------------------------------------------\u001b[0m",
      "\u001b[1;31mElementNotInteractableException\u001b[0mTraceback (most recent call last)",
      "\u001b[1;32m<ipython-input-31-66e2470da3a6>\u001b[0m in \u001b[0;36m<module>\u001b[1;34m\u001b[0m\n\u001b[0;32m     20\u001b[0m store_select = WebDriverWait(driver,20).until(EC.presence_of_element_located((\n\u001b[0;32m     21\u001b[0m     By.XPATH, store_select_xpath )))\n\u001b[1;32m---> 22\u001b[1;33m \u001b[0mstore_select\u001b[0m\u001b[1;33m.\u001b[0m\u001b[0mclick\u001b[0m\u001b[1;33m(\u001b[0m\u001b[1;33m)\u001b[0m\u001b[1;33m\u001b[0m\u001b[1;33m\u001b[0m\u001b[0m\n\u001b[0m\u001b[0;32m     23\u001b[0m \u001b[1;33m\u001b[0m\u001b[0m\n\u001b[0;32m     24\u001b[0m \u001b[1;31m#Load the first page\u001b[0m\u001b[1;33m\u001b[0m\u001b[1;33m\u001b[0m\u001b[1;33m\u001b[0m\u001b[0m\n",
      "\u001b[1;32m~\\anaconda3\\lib\\site-packages\\selenium\\webdriver\\remote\\webelement.py\u001b[0m in \u001b[0;36mclick\u001b[1;34m(self)\u001b[0m\n\u001b[0;32m     78\u001b[0m     \u001b[1;32mdef\u001b[0m \u001b[0mclick\u001b[0m\u001b[1;33m(\u001b[0m\u001b[0mself\u001b[0m\u001b[1;33m)\u001b[0m\u001b[1;33m:\u001b[0m\u001b[1;33m\u001b[0m\u001b[1;33m\u001b[0m\u001b[0m\n\u001b[0;32m     79\u001b[0m         \u001b[1;34m\"\"\"Clicks the element.\"\"\"\u001b[0m\u001b[1;33m\u001b[0m\u001b[1;33m\u001b[0m\u001b[0m\n\u001b[1;32m---> 80\u001b[1;33m         \u001b[0mself\u001b[0m\u001b[1;33m.\u001b[0m\u001b[0m_execute\u001b[0m\u001b[1;33m(\u001b[0m\u001b[0mCommand\u001b[0m\u001b[1;33m.\u001b[0m\u001b[0mCLICK_ELEMENT\u001b[0m\u001b[1;33m)\u001b[0m\u001b[1;33m\u001b[0m\u001b[1;33m\u001b[0m\u001b[0m\n\u001b[0m\u001b[0;32m     81\u001b[0m \u001b[1;33m\u001b[0m\u001b[0m\n\u001b[0;32m     82\u001b[0m     \u001b[1;32mdef\u001b[0m \u001b[0msubmit\u001b[0m\u001b[1;33m(\u001b[0m\u001b[0mself\u001b[0m\u001b[1;33m)\u001b[0m\u001b[1;33m:\u001b[0m\u001b[1;33m\u001b[0m\u001b[1;33m\u001b[0m\u001b[0m\n",
      "\u001b[1;32m~\\anaconda3\\lib\\site-packages\\selenium\\webdriver\\remote\\webelement.py\u001b[0m in \u001b[0;36m_execute\u001b[1;34m(self, command, params)\u001b[0m\n\u001b[0;32m    631\u001b[0m             \u001b[0mparams\u001b[0m \u001b[1;33m=\u001b[0m \u001b[1;33m{\u001b[0m\u001b[1;33m}\u001b[0m\u001b[1;33m\u001b[0m\u001b[1;33m\u001b[0m\u001b[0m\n\u001b[0;32m    632\u001b[0m         \u001b[0mparams\u001b[0m\u001b[1;33m[\u001b[0m\u001b[1;34m'id'\u001b[0m\u001b[1;33m]\u001b[0m \u001b[1;33m=\u001b[0m \u001b[0mself\u001b[0m\u001b[1;33m.\u001b[0m\u001b[0m_id\u001b[0m\u001b[1;33m\u001b[0m\u001b[1;33m\u001b[0m\u001b[0m\n\u001b[1;32m--> 633\u001b[1;33m         \u001b[1;32mreturn\u001b[0m \u001b[0mself\u001b[0m\u001b[1;33m.\u001b[0m\u001b[0m_parent\u001b[0m\u001b[1;33m.\u001b[0m\u001b[0mexecute\u001b[0m\u001b[1;33m(\u001b[0m\u001b[0mcommand\u001b[0m\u001b[1;33m,\u001b[0m \u001b[0mparams\u001b[0m\u001b[1;33m)\u001b[0m\u001b[1;33m\u001b[0m\u001b[1;33m\u001b[0m\u001b[0m\n\u001b[0m\u001b[0;32m    634\u001b[0m \u001b[1;33m\u001b[0m\u001b[0m\n\u001b[0;32m    635\u001b[0m     \u001b[1;32mdef\u001b[0m \u001b[0mfind_element\u001b[0m\u001b[1;33m(\u001b[0m\u001b[0mself\u001b[0m\u001b[1;33m,\u001b[0m \u001b[0mby\u001b[0m\u001b[1;33m=\u001b[0m\u001b[0mBy\u001b[0m\u001b[1;33m.\u001b[0m\u001b[0mID\u001b[0m\u001b[1;33m,\u001b[0m \u001b[0mvalue\u001b[0m\u001b[1;33m=\u001b[0m\u001b[1;32mNone\u001b[0m\u001b[1;33m)\u001b[0m\u001b[1;33m:\u001b[0m\u001b[1;33m\u001b[0m\u001b[1;33m\u001b[0m\u001b[0m\n",
      "\u001b[1;32m~\\anaconda3\\lib\\site-packages\\selenium\\webdriver\\remote\\webdriver.py\u001b[0m in \u001b[0;36mexecute\u001b[1;34m(self, driver_command, params)\u001b[0m\n\u001b[0;32m    319\u001b[0m         \u001b[0mresponse\u001b[0m \u001b[1;33m=\u001b[0m \u001b[0mself\u001b[0m\u001b[1;33m.\u001b[0m\u001b[0mcommand_executor\u001b[0m\u001b[1;33m.\u001b[0m\u001b[0mexecute\u001b[0m\u001b[1;33m(\u001b[0m\u001b[0mdriver_command\u001b[0m\u001b[1;33m,\u001b[0m \u001b[0mparams\u001b[0m\u001b[1;33m)\u001b[0m\u001b[1;33m\u001b[0m\u001b[1;33m\u001b[0m\u001b[0m\n\u001b[0;32m    320\u001b[0m         \u001b[1;32mif\u001b[0m \u001b[0mresponse\u001b[0m\u001b[1;33m:\u001b[0m\u001b[1;33m\u001b[0m\u001b[1;33m\u001b[0m\u001b[0m\n\u001b[1;32m--> 321\u001b[1;33m             \u001b[0mself\u001b[0m\u001b[1;33m.\u001b[0m\u001b[0merror_handler\u001b[0m\u001b[1;33m.\u001b[0m\u001b[0mcheck_response\u001b[0m\u001b[1;33m(\u001b[0m\u001b[0mresponse\u001b[0m\u001b[1;33m)\u001b[0m\u001b[1;33m\u001b[0m\u001b[1;33m\u001b[0m\u001b[0m\n\u001b[0m\u001b[0;32m    322\u001b[0m             response['value'] = self._unwrap_value(\n\u001b[0;32m    323\u001b[0m                 response.get('value', None))\n",
      "\u001b[1;32m~\\anaconda3\\lib\\site-packages\\selenium\\webdriver\\remote\\errorhandler.py\u001b[0m in \u001b[0;36mcheck_response\u001b[1;34m(self, response)\u001b[0m\n\u001b[0;32m    240\u001b[0m                 \u001b[0malert_text\u001b[0m \u001b[1;33m=\u001b[0m \u001b[0mvalue\u001b[0m\u001b[1;33m[\u001b[0m\u001b[1;34m'alert'\u001b[0m\u001b[1;33m]\u001b[0m\u001b[1;33m.\u001b[0m\u001b[0mget\u001b[0m\u001b[1;33m(\u001b[0m\u001b[1;34m'text'\u001b[0m\u001b[1;33m)\u001b[0m\u001b[1;33m\u001b[0m\u001b[1;33m\u001b[0m\u001b[0m\n\u001b[0;32m    241\u001b[0m             \u001b[1;32mraise\u001b[0m \u001b[0mexception_class\u001b[0m\u001b[1;33m(\u001b[0m\u001b[0mmessage\u001b[0m\u001b[1;33m,\u001b[0m \u001b[0mscreen\u001b[0m\u001b[1;33m,\u001b[0m \u001b[0mstacktrace\u001b[0m\u001b[1;33m,\u001b[0m \u001b[0malert_text\u001b[0m\u001b[1;33m)\u001b[0m\u001b[1;33m\u001b[0m\u001b[1;33m\u001b[0m\u001b[0m\n\u001b[1;32m--> 242\u001b[1;33m         \u001b[1;32mraise\u001b[0m \u001b[0mexception_class\u001b[0m\u001b[1;33m(\u001b[0m\u001b[0mmessage\u001b[0m\u001b[1;33m,\u001b[0m \u001b[0mscreen\u001b[0m\u001b[1;33m,\u001b[0m \u001b[0mstacktrace\u001b[0m\u001b[1;33m)\u001b[0m\u001b[1;33m\u001b[0m\u001b[1;33m\u001b[0m\u001b[0m\n\u001b[0m\u001b[0;32m    243\u001b[0m \u001b[1;33m\u001b[0m\u001b[0m\n\u001b[0;32m    244\u001b[0m     \u001b[1;32mdef\u001b[0m \u001b[0m_value_or_default\u001b[0m\u001b[1;33m(\u001b[0m\u001b[0mself\u001b[0m\u001b[1;33m,\u001b[0m \u001b[0mobj\u001b[0m\u001b[1;33m,\u001b[0m \u001b[0mkey\u001b[0m\u001b[1;33m,\u001b[0m \u001b[0mdefault\u001b[0m\u001b[1;33m)\u001b[0m\u001b[1;33m:\u001b[0m\u001b[1;33m\u001b[0m\u001b[1;33m\u001b[0m\u001b[0m\n",
      "\u001b[1;31mElementNotInteractableException\u001b[0m: Message: element not interactable\n  (Session info: chrome=109.0.5414.120)\n"
     ]
    }
   ],
   "source": [
    "#Initialize the website, then recursively go through all stores.\n",
    "\n",
    "driver = webdriver.Chrome('D:\\projects\\webscrap\\chromedriver')\n",
    "driver.get(url)\n",
    "\n",
    "#Create an F String for store selector \n",
    "#drop down, the xpath was indexed.\n",
    "store_select_xpath = f\"/html/body/div[2]/div[1]/div[1]/ul/li[1]\"\n",
    "\n",
    "\n",
    "#First button to navigate to store slection\n",
    "pick_up = driver.find_element(By.CSS_SELECTOR, pick_up_css)\n",
    "pick_up.click()\n",
    "\n",
    "#Drop down button to get the store lists visible\n",
    "drop_down = driver.find_element(By.CSS_SELECTOR, drop_down_css)\n",
    "drop_down.click()\n",
    "\n",
    "#Select specific store based on index\n",
    "store_select = WebDriverWait(driver,20).until(EC.presence_of_element_located((\n",
    "    By.XPATH, store_select_xpath )))\n",
    "store_select.click()\n",
    "\n",
    "#Load the first page\n",
    "address_confirm = WebDriverWait(driver, 20).until(EC.presence_of_element_located((\n",
    "    By.CSS_SELECTOR, address_confirm_css)))\n",
    "address_confirm.click()\n",
    "\n",
    "time.sleep(5)\n",
    "\n",
    "#Navigate to all N stores recursively\n",
    "for store in store_index:\n",
    "    \n",
    "    WebDriverWait(driver,20).until(EC.presence_of_element_located((\n",
    "    By.CSS_SELECTOR, \n",
    "    '#app > div:nth-child(1) > header > div > div > div > div.__header_item.__header_layout_menu > div.__header_address' ))).click()\n",
    "\n",
    "    store_select_xpath = f\"/html/body/div[2]/div[1]/div[1]/ul/li[{store}]/span\"\n",
    "    \n",
    "    pick_up = driver.find_element(By.CSS_SELECTOR, pick_up_css)\n",
    "    pick_up.click()\n",
    "\n",
    "    drop_down = driver.find_element(By.CSS_SELECTOR, drop_down_css)\n",
    "    drop_down.click()\n",
    "    \n",
    "    store_select = WebDriverWait(driver,20).until(EC.presence_of_element_located((\n",
    "        By.XPATH, store_select_xpath )))\n",
    "    print(store_select_xpath)\n",
    "    store_select.click()\n",
    "    \n",
    "    address_confirm = WebDriverWait(driver, 20).until(EC.presence_of_element_located((\n",
    "    By.CSS_SELECTOR, address_confirm_css)))\n",
    "    \n",
    "    address_confirm.click()\n",
    "    \n",
    "    time.sleep(2)\n",
    "    \n",
    "    get_store_items()\n",
    "\n",
    "driver.quit()"
   ]
  },
  {
   "cell_type": "code",
   "execution_count": null,
   "id": "0a338ac0",
   "metadata": {},
   "outputs": [],
   "source": []
  }
 ],
 "metadata": {
  "kernelspec": {
   "display_name": "Python 3",
   "language": "python",
   "name": "python3"
  },
  "language_info": {
   "codemirror_mode": {
    "name": "ipython",
    "version": 3
   },
   "file_extension": ".py",
   "mimetype": "text/x-python",
   "name": "python",
   "nbconvert_exporter": "python",
   "pygments_lexer": "ipython3",
   "version": "3.8.8"
  }
 },
 "nbformat": 4,
 "nbformat_minor": 5
}
